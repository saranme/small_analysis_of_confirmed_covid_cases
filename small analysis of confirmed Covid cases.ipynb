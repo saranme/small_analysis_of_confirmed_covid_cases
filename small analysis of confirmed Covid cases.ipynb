{
 "cells": [
  {
   "cell_type": "markdown",
   "metadata": {},
   "source": [
    "# Data wrangling\n",
    "\n",
    "Selection and explanation of the relevant variables for the study\n",
    "\n",
    "* **The Oxford Covid-19 Government Response Tracker (OxCGRT) dataset**: collects the policies taken by governments during the Covid. The variables to analyze are:\n",
    "\n",
    "    * *CountryName*: country\n",
    "    * *Date*: date\n",
    "    * *C1_School closing*: school closing policy\n",
    "        * 0 - no action taken\n",
    "        * 1 - it is recommended to close or significantly alter the operation of schools\n",
    "        * 2 - closing is required (some levels or categories. For example only institutes or colleges)\n",
    "        * 3 - it is required to close all levels\n",
    "    * *ConfirmedCases*: cumulative confirmed Covid cases\n",
    "    \n",
    "    \n",
    "* **HDI dataset**: collects the HDI Indices of each country. The HDI Index is an indicator that measures the level of development of the country according to variables such as life expectancy, education or per capita income.\n",
    "    * *Country*: country\n",
    "    * *2019*: last HDI Index found\n",
    "    \n",
    "    \n",
    "* **Population dataset**: collects the number of inhabitants per country.\n",
    "    * *Country Name*: country\n",
    "    * *2020*: number of inhabitants, most up-to-date data\n",
    "\n",
    "Data cleansing\n",
    "* **HDI dataset**:\n",
    "    * Selection of country and last HDI Index and elimination of the rest of variables.\n",
    "    * Creation of a new variable that categorizes the HDI Index as low, medium, high and very high.\n",
    "    \n",
    "    \n",
    "* **Population dataset**:\n",
    "    * selection of country and number of inhabitants and elimination of the rest of the variables.\n",
    " \n",
    " \n",
    "* **The Oxford Covid-19 Government Response Tracker (OxCGRT) dataset**:\n",
    "    * Selection of the variables country, date, school closure policy and confirmed cases.\n",
    "    * Elimination of the rest of variables for not being of interest to the study.\n",
    "    * Transformation column *Date* to date format.\n",
    "    * Creation of variable *daily increment of Covid cases*: to carry out a more detailed analysis of confirmed Covid cases.\n",
    "    * Cleaning of variable *Jurisdiction*: I filter only NAT_TOTAL since the study is at the national level, not state or regional. Later this variable is eliminated.\n",
    "        \n",
    "        \n",
    "* Union of *The Oxford Covid-19 Government Response Tracker (OxCGRT) dataset* with the rest of the dataset gives rise to the final dataframe:\n",
    "    * variables country, date, school closure policy, confirmed cases, HDI categories and population."
   ]
  },
  {
   "cell_type": "code",
   "execution_count": 1,
   "metadata": {},
   "outputs": [],
   "source": [
    "# Import de libraries\n",
    "import re\n",
    "import random\n",
    "import warnings\n",
    "import numpy as np\n",
    "import pandas as pd\n",
    "import matplotlib.pyplot as plt\n",
    "import seaborn as sns\n",
    "import datetime\n",
    "\n",
    "from pandas_profiling import ProfileReport\n",
    "from scipy import stats as st\n",
    "np.set_printoptions(suppress=True)\n",
    "\n",
    "%matplotlib inline\n",
    "\n",
    "# Pandas property to display all columns of the DataFrame\n",
    "pd.set_option('display.max_columns', None)\n",
    "\n",
    "# Ignore warnings\n",
    "warnings.filterwarnings('ignore')"
   ]
  },
  {
   "cell_type": "code",
   "execution_count": 2,
   "metadata": {},
   "outputs": [],
   "source": [
    "# Datasets:\n",
    "df = pd.read_csv('s_OxCGRT_latest.csv')\n",
    "hdi = pd.read_csv('hdi.csv')\n",
    "pop = pd.read_csv('pop.csv',skiprows=3)"
   ]
  },
  {
   "cell_type": "code",
   "execution_count": 3,
   "metadata": {},
   "outputs": [
    {
     "data": {
      "application/vnd.jupyter.widget-view+json": {
       "model_id": "5078f7146a07480dbc49651a6fc14b9e",
       "version_major": 2,
       "version_minor": 0
      },
      "text/plain": [
       "Summarize dataset:   0%|          | 0/5 [00:00<?, ?it/s]"
      ]
     },
     "metadata": {},
     "output_type": "display_data"
    },
    {
     "data": {
      "application/vnd.jupyter.widget-view+json": {
       "model_id": "621ceb4afa2c48de84f9533104856faf",
       "version_major": 2,
       "version_minor": 0
      },
      "text/plain": [
       "Generate report structure:   0%|          | 0/1 [00:00<?, ?it/s]"
      ]
     },
     "metadata": {},
     "output_type": "display_data"
    },
    {
     "data": {
      "application/vnd.jupyter.widget-view+json": {
       "model_id": "2d3425e05f4447118febf7a575bea10f",
       "version_major": 2,
       "version_minor": 0
      },
      "text/plain": [
       "Render HTML:   0%|          | 0/1 [00:00<?, ?it/s]"
      ]
     },
     "metadata": {},
     "output_type": "display_data"
    },
    {
     "data": {
      "application/vnd.jupyter.widget-view+json": {
       "model_id": "f0873d31b3e0431287d2033ab5b7e187",
       "version_major": 2,
       "version_minor": 0
      },
      "text/plain": [
       "Export report to file:   0%|          | 0/1 [00:00<?, ?it/s]"
      ]
     },
     "metadata": {},
     "output_type": "display_data"
    }
   ],
   "source": [
    "# Preliminary study of the main dataset\n",
    "# Report creation\n",
    "profile = ProfileReport(df=df, title='Profiling Report Covid', explorative=True)\n",
    "\n",
    "# We export it to HTML\n",
    "profile.to_file(\"Reporte_Covid.html\")"
   ]
  },
  {
   "cell_type": "code",
   "execution_count": 4,
   "metadata": {},
   "outputs": [],
   "source": [
    "# Cleaning jurisdiction: filter NAT_TOTAL\n",
    "df = df[df['Jurisdiction'] == 'NAT_TOTAL']\n",
    "\n",
    "# Elimination of non-relevant variables\n",
    "df.drop(['CountryCode', 'RegionName', 'RegionCode',\n",
    "       'Jurisdiction','M1_Wildcard','StringencyIndex',\n",
    "       'StringencyIndexForDisplay', 'StringencyLegacyIndex',\n",
    "       'StringencyLegacyIndexForDisplay', 'GovernmentResponseIndex',\n",
    "       'GovernmentResponseIndexForDisplay', 'ContainmentHealthIndex',\n",
    "       'ContainmentHealthIndexForDisplay', 'EconomicSupportIndex',\n",
    "       'EconomicSupportIndexForDisplay','C1_Flag',\n",
    "       'C2_Workplace closing', 'C2_Flag', 'C3_Cancel public events', 'C3_Flag',\n",
    "       'C4_Restrictions on gatherings', 'C4_Flag', 'C5_Close public transport',\n",
    "       'C5_Flag', 'C6_Stay at home requirements', 'C6_Flag',\n",
    "       'C7_Restrictions on internal movement', 'C7_Flag',\n",
    "       'C8_International travel controls', 'E1_Income support', 'E1_Flag',\n",
    "       'E2_Debt/contract relief', 'E3_Fiscal measures',\n",
    "       'E4_International support', 'H1_Public information campaigns',\n",
    "       'H1_Flag', 'H2_Testing policy', 'H3_Contact tracing',\n",
    "       'H4_Emergency investment in healthcare', 'H5_Investment in vaccines',\n",
    "       'H6_Facial Coverings', 'H6_Flag', 'H7_Vaccination policy', 'H7_Flag',\n",
    "       'H8_Protection of elderly people', 'H8_Flag','ConfirmedDeaths'], 1, inplace=True)"
   ]
  },
  {
   "cell_type": "code",
   "execution_count": 5,
   "metadata": {},
   "outputs": [],
   "source": [
    "# Creation of Daily Confirmed New Cases column.\n",
    "dcases_list = []\n",
    "country_array = df['CountryName'].unique()\n",
    "for country in country_array:\n",
    "    df_country = df[df['CountryName'] == country]\n",
    "    # we created a new column of daily confirmed Covid cases.\n",
    "    df_country['D_ConfirmedCases'] = df_country['ConfirmedCases'] - df_country['ConfirmedCases'].shift(1)\n",
    "    # we add each row of country data to a list that will contain all the rows of all the countries.\n",
    "    [dcases_list.append(row) for row in df_country.values]\n",
    "\n",
    "# Convert to df of the list with all new rows from all countries.\n",
    "df = pd.DataFrame(dcases_list, columns = ['CountryName', 'Date', 'C1_School closing', 'ConfirmedCases','D_ConfirmedCases'])\n",
    "\n",
    "# Cleanup of Daily Confirmed New Cases: replace negative cases with 0.\n",
    "df['D_ConfirmedCases'] = df['D_ConfirmedCases'].apply(lambda x: 0 if x < 0 else x)"
   ]
  },
  {
   "cell_type": "code",
   "execution_count": 6,
   "metadata": {},
   "outputs": [],
   "source": [
    "# Create HDI Index column\n",
    "# Loading data, correction of typographical errors and selection of country and corresponding HDI category.\n",
    "hdi = pd.read_csv('hdi.csv')\n",
    "hdi['Country'] = hdi['Country'].replace([\" C�te d'Ivoire\"],\" Cote d'Ivoire\")\n",
    "hdi['Country'] = hdi['Country'].apply(lambda x: str(x)[1:])\n",
    "hdi = hdi[hdi['2019'].notna()]\n",
    "hdi = hdi[hdi['2019'] != '..']\n",
    "hdi['hdi_cat'] = hdi['2019'].apply(lambda x: 'low hdi' if float(x) < 0.55 else \\\n",
    "                ('medium hdi' if float(x) >= 0.55 and float(x) <= 0.699 else \n",
    "                ('high hdi' if float(x) > 0.699 and float(x) <= 0.799 else 'very high hdi')))\n",
    "# Union of HDI Indices with the main df.\n",
    "df = pd.merge(df, hdi[['Country','2019','hdi_cat']], \\\n",
    "              how = 'inner', left_on = 'CountryName', right_on='Country').drop(['Country'],axis=1)"
   ]
  },
  {
   "cell_type": "code",
   "execution_count": 7,
   "metadata": {},
   "outputs": [],
   "source": [
    "# Loading data with the number of inhabitants per country.\n",
    "pop = pd.read_csv('pop.csv',skiprows=3)\n",
    "pop = pop[['Country Name','2020']]\n",
    "pop.dropna(subset=['2020'],inplace=True)\n",
    "pop = pop.astype({'2020': 'int'})\n",
    "pop.rename(columns={'Country Name': 'CountryName','2020':'population'}, inplace=True)\n",
    "\n",
    "# Union of population with the main city.\n",
    "df = pd.merge(df, pop, on='CountryName')"
   ]
  },
  {
   "cell_type": "code",
   "execution_count": 8,
   "metadata": {},
   "outputs": [],
   "source": [
    "# Format datetime to variable date.\n",
    "df['Date'] = df['Date'].apply(lambda x: datetime.datetime.strptime(str(x), '%Y%m%d'))"
   ]
  },
  {
   "cell_type": "markdown",
   "metadata": {},
   "source": [
    "# Data Analysis\n",
    "Object of study:\n",
    "+ [Which countries have a higher increase in Covid cases per month?](#M1)\n",
    "+ [Which countries have experienced more cases of Covid in relation to the population of each country?](#M2)\n",
    "+ [In the months with the highest Covid peaks, were the same policies taken in the schools as in the months with the fewest Covid peaks?](#M3)"
   ]
  },
  {
   "cell_type": "code",
   "execution_count": 9,
   "metadata": {},
   "outputs": [
    {
     "name": "stdout",
     "output_type": "stream",
     "text": [
      "There is data from 2020-01-01 to 2021-11-22.\n"
     ]
    }
   ],
   "source": [
    "print(f'There is data from {df.Date.min().date()} to {df.Date.max().date()}.')"
   ]
  },
  {
   "cell_type": "markdown",
   "metadata": {},
   "source": [
    "## <a name=\"M1\">1. Which countries have a higher increase in Covid cases per month?</a>\n",
    "\n",
    "* Comparison of the periods with the most Covid cases in each country.\n",
    "* Grouping by month and year.\n",
    "* If, monthly, the cases are above 75% a considerable peak of Covid cases is labeled."
   ]
  },
  {
   "cell_type": "code",
   "execution_count": 10,
   "metadata": {},
   "outputs": [],
   "source": [
    "# New columns with the month and year to later group by month and year.\n",
    "df['month'] = pd.DatetimeIndex(df['Date']).month\n",
    "df['year'] = pd.DatetimeIndex(df['Date']).year\n",
    "\n",
    "# New df: grouping by month and year and sum of covid cases, by country.\n",
    "df1 = df.groupby(['CountryName','hdi_cat','year','month'])['D_ConfirmedCases'].agg('sum').reset_index()\n",
    "# New percentage column of the monthly increase in covid cases.\n",
    "rows_list = []\n",
    "for country in df.CountryName.unique():\n",
    "    co = df1[df1['CountryName'] == country]\n",
    "    co['perc_D_ConfirmedCases'] = round((co['D_ConfirmedCases'] - co['D_ConfirmedCases'].shift())/co['D_ConfirmedCases'],3)\n",
    "    [rows_list.append(row) for row in co.values]\n",
    "\n",
    "# New df: covid cases and percentage of the increase in covid cases per month in each country.\n",
    "high_covid_df = pd.DataFrame(rows_list, columns = ['CountryName', 'hdi_cat', 'year', 'month', 'D_ConfirmedCases',\n",
    "                               'perc_D_ConfirmedCases'])"
   ]
  },
  {
   "cell_type": "code",
   "execution_count": 11,
   "metadata": {},
   "outputs": [],
   "source": [
    "# New df: count of months with a percentage increase in Covid above 75% and\n",
    "# count of months with a percentage increase in Covid below 75% by country.\n",
    "condition = high_covid_df['perc_D_ConfirmedCases'] > 0.75\n",
    "c1 = np.where(condition,  'Covid cases increase> 75% per month', 'Covid cases increase <= 75% per month')\n",
    "df2 = high_covid_df.groupby(['CountryName','hdi_cat',c1])['perc_D_ConfirmedCases'].agg(['count']).reset_index()\n",
    "\n",
    "# Df with the number of months with data by country.\n",
    "df3 = df2.groupby(['CountryName'])['count'].agg(['sum']).reset_index()\n",
    "\n",
    "# New df: union of the two previous df and new column with the proportion of months\n",
    "# with many Covid cases and not many Covid cases.\n",
    "df4 = pd.merge(df2,df3,on='CountryName')\n",
    "df4['perc'] = round(df4['count']/ df4['sum'] * 100,3)"
   ]
  },
  {
   "cell_type": "code",
   "execution_count": 12,
   "metadata": {},
   "outputs": [
    {
     "data": {
      "image/png": "[encoded data removed]",
      "text/plain": [
       "<Figure size 432x288 with 1 Axes>"
      ]
     },
     "metadata": {
      "needs_background": "light"
     },
     "output_type": "display_data"
    }
   ],
   "source": [
    "# Distribution of the number of months with data by country.\n",
    "# Most countries have data for 20-22 months.\n",
    "df4[df4['level_2'] == 'Covid cases increase> 75% per month'][['sum']].describe().T\n",
    "plt.boxplot(df4[df4['level_2'] == 'Covid cases increase> 75% per month']['sum'])\n",
    "plt.show()"
   ]
  },
  {
   "cell_type": "markdown",
   "metadata": {},
   "source": [
    "Most countries have data for 20-22 months.\n",
    "\n",
    "To make a more correct analysis we filter only the countries with more than 10 months of data."
   ]
  },
  {
   "cell_type": "code",
   "execution_count": 13,
   "metadata": {},
   "outputs": [],
   "source": [
    "# Filter only the count percentage of months with many Covid cases.\n",
    "# Filter countries with more than 10 months of data.\n",
    "df5 = df4[df4['level_2'] == 'Covid cases increase> 75% per month']\n",
    "df5 = df5[df5['sum'] > 10]\n",
    "# Df ordered, from highest to lowest, by countries with the proportion of months with the highest covid cases.\n",
    "df5 = df5.drop(['level_2'],axis=1).sort_values(by='perc',ascending=False)"
   ]
  },
  {
   "cell_type": "code",
   "execution_count": 14,
   "metadata": {},
   "outputs": [
    {
     "data": {
      "text/html": [
       "<div>\n",
       "<style scoped>\n",
       "    .dataframe tbody tr th:only-of-type {\n",
       "        vertical-align: middle;\n",
       "    }\n",
       "\n",
       "    .dataframe tbody tr th {\n",
       "        vertical-align: top;\n",
       "    }\n",
       "\n",
       "    .dataframe thead th {\n",
       "        text-align: right;\n",
       "    }\n",
       "</style>\n",
       "<table border=\"1\" class=\"dataframe\">\n",
       "  <thead>\n",
       "    <tr style=\"text-align: right;\">\n",
       "      <th></th>\n",
       "      <th>count</th>\n",
       "      <th>mean</th>\n",
       "      <th>std</th>\n",
       "      <th>min</th>\n",
       "      <th>25%</th>\n",
       "      <th>50%</th>\n",
       "      <th>75%</th>\n",
       "      <th>max</th>\n",
       "    </tr>\n",
       "  </thead>\n",
       "  <tbody>\n",
       "    <tr>\n",
       "      <th>perc</th>\n",
       "      <td>143.0</td>\n",
       "      <td>17.395168</td>\n",
       "      <td>6.540809</td>\n",
       "      <td>4.545</td>\n",
       "      <td>13.636</td>\n",
       "      <td>18.182</td>\n",
       "      <td>22.727</td>\n",
       "      <td>38.095</td>\n",
       "    </tr>\n",
       "  </tbody>\n",
       "</table>\n",
       "</div>"
      ],
      "text/plain": [
       "      count       mean       std    min     25%     50%     75%     max\n",
       "perc  143.0  17.395168  6.540809  4.545  13.636  18.182  22.727  38.095"
      ]
     },
     "execution_count": 14,
     "metadata": {},
     "output_type": "execute_result"
    }
   ],
   "source": [
    "# Distribution of the proportion of months with the highest Covid cases.\n",
    "df5[['perc']].describe().T"
   ]
  },
  {
   "cell_type": "code",
   "execution_count": 15,
   "metadata": {},
   "outputs": [
    {
     "data": {
      "image/png": "[encoded data removed]",
      "text/plain": [
       "<Figure size 432x288 with 1 Axes>"
      ]
     },
     "metadata": {
      "needs_background": "light"
     },
     "output_type": "display_data"
    }
   ],
   "source": [
    "# Histogram of the proportion of months with the highest Covid cases.\n",
    "plt.hist(df5.perc, alpha = 0.8)\n",
    "plt.title('Histogram of the proportion of months with the highest covid cases')\n",
    "plt.xlabel('proporcions')\n",
    "plt.show()"
   ]
  },
  {
   "cell_type": "markdown",
   "metadata": {},
   "source": [
    "The asymmetric distribution to the right makes 25% the value that best represents the countries with the highest proportion of months with the highest Covid cases.\n",
    "\n",
    "### **Which countries are the most affected by the covid month by month?**\n",
    "### **What category of the HDI Index have the countries most affected by the covid month by month?**"
   ]
  },
  {
   "cell_type": "code",
   "execution_count": 16,
   "metadata": {},
   "outputs": [
    {
     "data": {
      "text/html": [
       "<div>\n",
       "<style scoped>\n",
       "    .dataframe tbody tr th:only-of-type {\n",
       "        vertical-align: middle;\n",
       "    }\n",
       "\n",
       "    .dataframe tbody tr th {\n",
       "        vertical-align: top;\n",
       "    }\n",
       "\n",
       "    .dataframe thead th {\n",
       "        text-align: right;\n",
       "    }\n",
       "</style>\n",
       "<table border=\"1\" class=\"dataframe\">\n",
       "  <thead>\n",
       "    <tr style=\"text-align: right;\">\n",
       "      <th></th>\n",
       "      <th>CountryName</th>\n",
       "      <th>hdi_cat</th>\n",
       "      <th>count</th>\n",
       "      <th>sum</th>\n",
       "      <th>perc</th>\n",
       "    </tr>\n",
       "  </thead>\n",
       "  <tbody>\n",
       "    <tr>\n",
       "      <th>209</th>\n",
       "      <td>Papua New Guinea</td>\n",
       "      <td>medium hdi</td>\n",
       "      <td>8</td>\n",
       "      <td>21</td>\n",
       "      <td>38.095</td>\n",
       "    </tr>\n",
       "    <tr>\n",
       "      <th>151</th>\n",
       "      <td>Lesotho</td>\n",
       "      <td>low hdi</td>\n",
       "      <td>7</td>\n",
       "      <td>19</td>\n",
       "      <td>36.842</td>\n",
       "    </tr>\n",
       "    <tr>\n",
       "      <th>47</th>\n",
       "      <td>Cambodia</td>\n",
       "      <td>medium hdi</td>\n",
       "      <td>7</td>\n",
       "      <td>22</td>\n",
       "      <td>31.818</td>\n",
       "    </tr>\n",
       "    <tr>\n",
       "      <th>91</th>\n",
       "      <td>Fiji</td>\n",
       "      <td>high hdi</td>\n",
       "      <td>6</td>\n",
       "      <td>20</td>\n",
       "      <td>30.000</td>\n",
       "    </tr>\n",
       "    <tr>\n",
       "      <th>165</th>\n",
       "      <td>Malawi</td>\n",
       "      <td>low hdi</td>\n",
       "      <td>6</td>\n",
       "      <td>20</td>\n",
       "      <td>30.000</td>\n",
       "    </tr>\n",
       "    <tr>\n",
       "      <th>294</th>\n",
       "      <td>Zimbabwe</td>\n",
       "      <td>medium hdi</td>\n",
       "      <td>6</td>\n",
       "      <td>21</td>\n",
       "      <td>28.571</td>\n",
       "    </tr>\n",
       "    <tr>\n",
       "      <th>235</th>\n",
       "      <td>Sierra Leone</td>\n",
       "      <td>low hdi</td>\n",
       "      <td>6</td>\n",
       "      <td>21</td>\n",
       "      <td>28.571</td>\n",
       "    </tr>\n",
       "    <tr>\n",
       "      <th>53</th>\n",
       "      <td>Central African Republic</td>\n",
       "      <td>low hdi</td>\n",
       "      <td>6</td>\n",
       "      <td>21</td>\n",
       "      <td>28.571</td>\n",
       "    </tr>\n",
       "    <tr>\n",
       "      <th>185</th>\n",
       "      <td>Myanmar</td>\n",
       "      <td>medium hdi</td>\n",
       "      <td>6</td>\n",
       "      <td>21</td>\n",
       "      <td>28.571</td>\n",
       "    </tr>\n",
       "    <tr>\n",
       "      <th>231</th>\n",
       "      <td>Serbia</td>\n",
       "      <td>very high hdi</td>\n",
       "      <td>6</td>\n",
       "      <td>21</td>\n",
       "      <td>28.571</td>\n",
       "    </tr>\n",
       "    <tr>\n",
       "      <th>79</th>\n",
       "      <td>Dominica</td>\n",
       "      <td>high hdi</td>\n",
       "      <td>6</td>\n",
       "      <td>21</td>\n",
       "      <td>28.571</td>\n",
       "    </tr>\n",
       "    <tr>\n",
       "      <th>129</th>\n",
       "      <td>Israel</td>\n",
       "      <td>very high hdi</td>\n",
       "      <td>6</td>\n",
       "      <td>22</td>\n",
       "      <td>27.273</td>\n",
       "    </tr>\n",
       "    <tr>\n",
       "      <th>199</th>\n",
       "      <td>Nigeria</td>\n",
       "      <td>low hdi</td>\n",
       "      <td>6</td>\n",
       "      <td>22</td>\n",
       "      <td>27.273</td>\n",
       "    </tr>\n",
       "    <tr>\n",
       "      <th>189</th>\n",
       "      <td>Nepal</td>\n",
       "      <td>medium hdi</td>\n",
       "      <td>6</td>\n",
       "      <td>22</td>\n",
       "      <td>27.273</td>\n",
       "    </tr>\n",
       "    <tr>\n",
       "      <th>263</th>\n",
       "      <td>Timor-Leste</td>\n",
       "      <td>medium hdi</td>\n",
       "      <td>5</td>\n",
       "      <td>19</td>\n",
       "      <td>26.316</td>\n",
       "    </tr>\n",
       "  </tbody>\n",
       "</table>\n",
       "</div>"
      ],
      "text/plain": [
       "                  CountryName        hdi_cat  count  sum    perc\n",
       "209          Papua New Guinea     medium hdi      8   21  38.095\n",
       "151                   Lesotho        low hdi      7   19  36.842\n",
       "47                   Cambodia     medium hdi      7   22  31.818\n",
       "91                       Fiji       high hdi      6   20  30.000\n",
       "165                    Malawi        low hdi      6   20  30.000\n",
       "294                  Zimbabwe     medium hdi      6   21  28.571\n",
       "235              Sierra Leone        low hdi      6   21  28.571\n",
       "53   Central African Republic        low hdi      6   21  28.571\n",
       "185                   Myanmar     medium hdi      6   21  28.571\n",
       "231                    Serbia  very high hdi      6   21  28.571\n",
       "79                   Dominica       high hdi      6   21  28.571\n",
       "129                    Israel  very high hdi      6   22  27.273\n",
       "199                   Nigeria        low hdi      6   22  27.273\n",
       "189                     Nepal     medium hdi      6   22  27.273\n",
       "263               Timor-Leste     medium hdi      5   19  26.316"
      ]
     },
     "execution_count": 16,
     "metadata": {},
     "output_type": "execute_result"
    }
   ],
   "source": [
    "# Extract from the countries most affected by Covid month by month.\n",
    "df5[df5['perc'] > 25]"
   ]
  },
  {
   "cell_type": "code",
   "execution_count": 17,
   "metadata": {},
   "outputs": [
    {
     "data": {
      "image/png": "[encoded data removed]",
      "text/plain": [
       "<Figure size 1080x432 with 1 Axes>"
      ]
     },
     "metadata": {
      "needs_background": "light"
     },
     "output_type": "display_data"
    }
   ],
   "source": [
    "# New df: grouping into HDI categories of the countries most affected by Covid month by month.\n",
    "cat_inc = df5[df5['perc'] > 25]['hdi_cat'].value_counts()\n",
    "fig, ax = plt.subplots(figsize=(15,6))\n",
    "cat_inc.plot(kind='barh',alpha = 0.8)\n",
    "plt.title('Highest Monthly Covid Increases by HDI Indices')\n",
    "plt.xlabel('number of countries with the highest percentage of monthly increases in covid cases')\n",
    "plt.show()"
   ]
  },
  {
   "cell_type": "markdown",
   "metadata": {},
   "source": [
    "Of the countries most affected by the Covid month by month, more than double have a low and medium HDI Index."
   ]
  },
  {
   "cell_type": "markdown",
   "metadata": {},
   "source": [
    "### **Which months have been the most contagious in the world?**"
   ]
  },
  {
   "cell_type": "code",
   "execution_count": 18,
   "metadata": {},
   "outputs": [
    {
     "data": {
      "image/png": "[encoded data removed]",
      "text/plain": [
       "<Figure size 1080x432 with 1 Axes>"
      ]
     },
     "metadata": {
      "needs_background": "light"
     },
     "output_type": "display_data"
    }
   ],
   "source": [
    "# Filter countries and months with a proportion of increase in cases greater than 75%.\n",
    "more_cases = high_covid_df[high_covid_df['perc_D_ConfirmedCases'] > 0.75]\n",
    "# Count, per month, of the highest Covid increments.\n",
    "contg = more_cases.groupby(['year','month'])['year'].agg(['count'])\n",
    "fig, ax = plt.subplots(figsize=(15,6))\n",
    "contg.plot(kind='bar', alpha = 0.8, ax=ax)\n",
    "plt.title('Months with the highest increase in cases worldwide')\n",
    "plt.xlabel('Date')\n",
    "plt.ylabel('Number of most contagious months')\n",
    "plt.show()"
   ]
  },
  {
   "cell_type": "markdown",
   "metadata": {},
   "source": [
    "March 2020 was by far the month with the highest peaks of infections in more countries, 137.\n",
    "\n",
    "07/2021 has been the month with the highest spikes of infections in more countries, 22, followed by August."
   ]
  },
  {
   "cell_type": "markdown",
   "metadata": {},
   "source": [
    "## <a name=\"M2\">2. Which countries have experienced more cases of Covid in relation to the population of each country?</a>"
   ]
  },
  {
   "cell_type": "code",
   "execution_count": 19,
   "metadata": {},
   "outputs": [
    {
     "name": "stdout",
     "output_type": "stream",
     "text": [
      "There are 1 null value of confirmed cases at the earliest date with data.\n"
     ]
    }
   ],
   "source": [
    "# Last date on which there are values for all countries (except one) with covid cases.\n",
    "date_time_str = '19/11/21'\n",
    "date_time_obj = datetime.datetime.strptime(date_time_str, '%d/%m/%y')\n",
    "nulos = sum(df[df['Date'] == date_time_obj]['ConfirmedCases'].isnull())\n",
    "print(f'There are {nulos} null value of confirmed cases at the earliest date with data.')"
   ]
  },
  {
   "cell_type": "code",
   "execution_count": 20,
   "metadata": {},
   "outputs": [
    {
     "data": {
      "image/png": "[encoded data removed]",
      "text/plain": [
       "<Figure size 432x288 with 1 Axes>"
      ]
     },
     "metadata": {
      "needs_background": "light"
     },
     "output_type": "display_data"
    }
   ],
   "source": [
    "# Selection of total accumulated confirmed Covid cases that appear on the last date with data.\n",
    "df_maxdate = df[df['Date'] == date_time_obj]\n",
    "df_maxdate['prop_cases'] = round(df_maxdate['ConfirmedCases'] / df_maxdate['population'] * 100,2)\n",
    "\n",
    "# Distribution of the proportion of the population infected by country.\n",
    "plt.boxplot(df_maxdate['prop_cases'].dropna())\n",
    "plt.show()"
   ]
  },
  {
   "cell_type": "code",
   "execution_count": 21,
   "metadata": {},
   "outputs": [
    {
     "data": {
      "image/png": "[encoded data removed]",
      "text/plain": [
       "<Figure size 432x288 with 1 Axes>"
      ]
     },
     "metadata": {
      "needs_background": "light"
     },
     "output_type": "display_data"
    }
   ],
   "source": [
    "# Histogram with the proportions of Covid infections.\n",
    "plt.hist(df_maxdate['prop_cases'], alpha = 0.8)\n",
    "plt.title('Histogram with the proportions of covid infections')\n",
    "plt.xlabel('Proportion of infections')\n",
    "plt.show()"
   ]
  },
  {
   "cell_type": "markdown",
   "metadata": {},
   "source": [
    "The asymmetric distribution to the right makes 12% the value that best represents the countries with the highest proportion of past Covid cases.\n",
    "\n",
    "A proportion greater than 12 means a population with a high percentage of infections."
   ]
  },
  {
   "cell_type": "code",
   "execution_count": 22,
   "metadata": {},
   "outputs": [
    {
     "data": {
      "text/html": [
       "<div>\n",
       "<style scoped>\n",
       "    .dataframe tbody tr th:only-of-type {\n",
       "        vertical-align: middle;\n",
       "    }\n",
       "\n",
       "    .dataframe tbody tr th {\n",
       "        vertical-align: top;\n",
       "    }\n",
       "\n",
       "    .dataframe thead th {\n",
       "        text-align: right;\n",
       "    }\n",
       "</style>\n",
       "<table border=\"1\" class=\"dataframe\">\n",
       "  <thead>\n",
       "    <tr style=\"text-align: right;\">\n",
       "      <th></th>\n",
       "      <th>CountryName</th>\n",
       "      <th>ConfirmedCases</th>\n",
       "      <th>2019</th>\n",
       "      <th>hdi_cat</th>\n",
       "      <th>population</th>\n",
       "      <th>prop_cases</th>\n",
       "    </tr>\n",
       "  </thead>\n",
       "  <tbody>\n",
       "    <tr>\n",
       "      <th>89264</th>\n",
       "      <td>Seychelles</td>\n",
       "      <td>22895.0</td>\n",
       "      <td>0.796</td>\n",
       "      <td>high hdi</td>\n",
       "      <td>98462</td>\n",
       "      <td>23.25</td>\n",
       "    </tr>\n",
       "    <tr>\n",
       "      <th>35288</th>\n",
       "      <td>Georgia</td>\n",
       "      <td>804571.0</td>\n",
       "      <td>0.812</td>\n",
       "      <td>very high hdi</td>\n",
       "      <td>3714000</td>\n",
       "      <td>21.66</td>\n",
       "    </tr>\n",
       "    <tr>\n",
       "      <th>2764</th>\n",
       "      <td>Andorra</td>\n",
       "      <td>16086.0</td>\n",
       "      <td>0.868</td>\n",
       "      <td>very high hdi</td>\n",
       "      <td>77265</td>\n",
       "      <td>20.82</td>\n",
       "    </tr>\n",
       "    <tr>\n",
       "      <th>87880</th>\n",
       "      <td>Slovenia</td>\n",
       "      <td>395203.0</td>\n",
       "      <td>0.917</td>\n",
       "      <td>very high hdi</td>\n",
       "      <td>2100126</td>\n",
       "      <td>18.82</td>\n",
       "    </tr>\n",
       "    <tr>\n",
       "      <th>85804</th>\n",
       "      <td>Serbia</td>\n",
       "      <td>1228328.0</td>\n",
       "      <td>0.806</td>\n",
       "      <td>very high hdi</td>\n",
       "      <td>6908224</td>\n",
       "      <td>17.78</td>\n",
       "    </tr>\n",
       "    <tr>\n",
       "      <th>11068</th>\n",
       "      <td>Bahrain</td>\n",
       "      <td>277322.0</td>\n",
       "      <td>0.852</td>\n",
       "      <td>very high hdi</td>\n",
       "      <td>1701583</td>\n",
       "      <td>16.30</td>\n",
       "    </tr>\n",
       "    <tr>\n",
       "      <th>30444</th>\n",
       "      <td>Estonia</td>\n",
       "      <td>216081.0</td>\n",
       "      <td>0.892</td>\n",
       "      <td>very high hdi</td>\n",
       "      <td>1331057</td>\n",
       "      <td>16.23</td>\n",
       "    </tr>\n",
       "    <tr>\n",
       "      <th>56740</th>\n",
       "      <td>Lithuania</td>\n",
       "      <td>452268.0</td>\n",
       "      <td>0.882</td>\n",
       "      <td>very high hdi</td>\n",
       "      <td>2794700</td>\n",
       "      <td>16.18</td>\n",
       "    </tr>\n",
       "    <tr>\n",
       "      <th>45668</th>\n",
       "      <td>Israel</td>\n",
       "      <td>1339723.0</td>\n",
       "      <td>0.919</td>\n",
       "      <td>very high hdi</td>\n",
       "      <td>9216900</td>\n",
       "      <td>14.54</td>\n",
       "    </tr>\n",
       "    <tr>\n",
       "      <th>34596</th>\n",
       "      <td>United Kingdom</td>\n",
       "      <td>9766153.0</td>\n",
       "      <td>0.932</td>\n",
       "      <td>very high hdi</td>\n",
       "      <td>67215293</td>\n",
       "      <td>14.53</td>\n",
       "    </tr>\n",
       "    <tr>\n",
       "      <th>98952</th>\n",
       "      <td>United States</td>\n",
       "      <td>47660379.0</td>\n",
       "      <td>0.926</td>\n",
       "      <td>very high hdi</td>\n",
       "      <td>329484123</td>\n",
       "      <td>14.47</td>\n",
       "    </tr>\n",
       "    <tr>\n",
       "      <th>40132</th>\n",
       "      <td>Croatia</td>\n",
       "      <td>560504.0</td>\n",
       "      <td>0.851</td>\n",
       "      <td>very high hdi</td>\n",
       "      <td>4047200</td>\n",
       "      <td>13.85</td>\n",
       "    </tr>\n",
       "    <tr>\n",
       "      <th>69888</th>\n",
       "      <td>Netherlands</td>\n",
       "      <td>2399849.0</td>\n",
       "      <td>0.944</td>\n",
       "      <td>very high hdi</td>\n",
       "      <td>17441139</td>\n",
       "      <td>13.76</td>\n",
       "    </tr>\n",
       "    <tr>\n",
       "      <th>7608</th>\n",
       "      <td>Belgium</td>\n",
       "      <td>1581500.0</td>\n",
       "      <td>0.931</td>\n",
       "      <td>very high hdi</td>\n",
       "      <td>11555997</td>\n",
       "      <td>13.69</td>\n",
       "    </tr>\n",
       "    <tr>\n",
       "      <th>57432</th>\n",
       "      <td>Luxembourg</td>\n",
       "      <td>85960.0</td>\n",
       "      <td>0.916</td>\n",
       "      <td>very high hdi</td>\n",
       "      <td>632275</td>\n",
       "      <td>13.60</td>\n",
       "    </tr>\n",
       "    <tr>\n",
       "      <th>58124</th>\n",
       "      <td>Latvia</td>\n",
       "      <td>245006.0</td>\n",
       "      <td>0.866</td>\n",
       "      <td>very high hdi</td>\n",
       "      <td>1901548</td>\n",
       "      <td>12.88</td>\n",
       "    </tr>\n",
       "  </tbody>\n",
       "</table>\n",
       "</div>"
      ],
      "text/plain": [
       "          CountryName  ConfirmedCases   2019        hdi_cat  population  \\\n",
       "89264      Seychelles         22895.0  0.796       high hdi       98462   \n",
       "35288         Georgia        804571.0  0.812  very high hdi     3714000   \n",
       "2764          Andorra         16086.0  0.868  very high hdi       77265   \n",
       "87880        Slovenia        395203.0  0.917  very high hdi     2100126   \n",
       "85804          Serbia       1228328.0  0.806  very high hdi     6908224   \n",
       "11068         Bahrain        277322.0  0.852  very high hdi     1701583   \n",
       "30444         Estonia        216081.0  0.892  very high hdi     1331057   \n",
       "56740       Lithuania        452268.0  0.882  very high hdi     2794700   \n",
       "45668          Israel       1339723.0  0.919  very high hdi     9216900   \n",
       "34596  United Kingdom       9766153.0  0.932  very high hdi    67215293   \n",
       "98952   United States      47660379.0  0.926  very high hdi   329484123   \n",
       "40132         Croatia        560504.0  0.851  very high hdi     4047200   \n",
       "69888     Netherlands       2399849.0  0.944  very high hdi    17441139   \n",
       "7608          Belgium       1581500.0  0.931  very high hdi    11555997   \n",
       "57432      Luxembourg         85960.0  0.916  very high hdi      632275   \n",
       "58124          Latvia        245006.0  0.866  very high hdi     1901548   \n",
       "\n",
       "       prop_cases  \n",
       "89264       23.25  \n",
       "35288       21.66  \n",
       "2764        20.82  \n",
       "87880       18.82  \n",
       "85804       17.78  \n",
       "11068       16.30  \n",
       "30444       16.23  \n",
       "56740       16.18  \n",
       "45668       14.54  \n",
       "34596       14.53  \n",
       "98952       14.47  \n",
       "40132       13.85  \n",
       "69888       13.76  \n",
       "7608        13.69  \n",
       "57432       13.60  \n",
       "58124       12.88  "
      ]
     },
     "execution_count": 22,
     "metadata": {},
     "output_type": "execute_result"
    }
   ],
   "source": [
    "# Countries with a very high proportion of past Covid cases.\n",
    "df_maxdate[df_maxdate['prop_cases'] > 12][['CountryName','ConfirmedCases','2019','hdi_cat','population','prop_cases']]\\\n",
    "                                        .sort_values(by='prop_cases', ascending = False)"
   ]
  },
  {
   "cell_type": "code",
   "execution_count": 23,
   "metadata": {},
   "outputs": [
    {
     "data": {
      "text/html": [
       "<div>\n",
       "<style scoped>\n",
       "    .dataframe tbody tr th:only-of-type {\n",
       "        vertical-align: middle;\n",
       "    }\n",
       "\n",
       "    .dataframe tbody tr th {\n",
       "        vertical-align: top;\n",
       "    }\n",
       "\n",
       "    .dataframe thead th {\n",
       "        text-align: right;\n",
       "    }\n",
       "</style>\n",
       "<table border=\"1\" class=\"dataframe\">\n",
       "  <thead>\n",
       "    <tr style=\"text-align: right;\">\n",
       "      <th></th>\n",
       "      <th>count</th>\n",
       "      <th>mean</th>\n",
       "      <th>std</th>\n",
       "      <th>min</th>\n",
       "      <th>25%</th>\n",
       "      <th>50%</th>\n",
       "      <th>75%</th>\n",
       "      <th>max</th>\n",
       "    </tr>\n",
       "  </thead>\n",
       "  <tbody>\n",
       "    <tr>\n",
       "      <th>prop_cases</th>\n",
       "      <td>147.0</td>\n",
       "      <td>5.591565</td>\n",
       "      <td>5.438443</td>\n",
       "      <td>0.0</td>\n",
       "      <td>0.48</td>\n",
       "      <td>4.49</td>\n",
       "      <td>9.375</td>\n",
       "      <td>23.25</td>\n",
       "    </tr>\n",
       "  </tbody>\n",
       "</table>\n",
       "</div>"
      ],
      "text/plain": [
       "            count      mean       std  min   25%   50%    75%    max\n",
       "prop_cases  147.0  5.591565  5.438443  0.0  0.48  4.49  9.375  23.25"
      ]
     },
     "execution_count": 23,
     "metadata": {},
     "output_type": "execute_result"
    }
   ],
   "source": [
    "# Distribution of the proportion of past Covid cases.\n",
    "df_maxdate[['prop_cases']].describe().T"
   ]
  },
  {
   "cell_type": "markdown",
   "metadata": {},
   "source": [
    "For half of the countries, only 4.5% or less (with a maximum of 4.49%) of their populations have had the virus.\n",
    "In 75% of the countries, only 9.3% or less of their populations have had the virus.\n",
    "\n",
    "**All countries, except Seychelles, that have more than 12% of their population with the past virus belong to a very high HDI Index.**\n",
    "\n",
    "### **What happens to countries with a percentage of their population with past Covid less than 5% (average)?**"
   ]
  },
  {
   "cell_type": "code",
   "execution_count": 24,
   "metadata": {},
   "outputs": [
    {
     "data": {
      "image/png": "[encoded data removed]",
      "text/plain": [
       "<Figure size 1080x432 with 1 Axes>"
      ]
     },
     "metadata": {
      "needs_background": "light"
     },
     "output_type": "display_data"
    }
   ],
   "source": [
    "# Number of countries with less than 5% of Covid in their population by category of the HDI Index.\n",
    "co_less5per_covid = df_maxdate[df_maxdate['prop_cases'] <= 5].groupby(['hdi_cat'])['hdi_cat'].agg(['count']).reset_index()\n",
    "\n",
    "# Total number of countries by HDI Index category.\n",
    "prop_co_less5per_covid = df_maxdate.groupby(['hdi_cat'])['hdi_cat'].agg(['count']).reset_index()\n",
    "\n",
    "# New df: union of the number of total countries and countries with <5% Covid per HDI category.\n",
    "df6 = pd.merge(co_less5per_covid,prop_co_less5per_covid,on='hdi_cat')\n",
    "df6.columns = ['hdi_cat','countries <5% with covid cases','n of countries per category']\n",
    "\n",
    "# New column that shows the proportion of countries with less than 5% of Covid compared to\n",
    "# Of the total number of countries in each HDI category.\n",
    "df6['prop countries with less 5% covid'] = round(df6['countries <5% with covid cases']/df6['n of countries per category']*100,2)\n",
    "df6 = df6.sort_values(by='prop countries with less 5% covid')\n",
    "fig, ax = plt.subplots(figsize=(15,6))\n",
    "plt.bar('hdi_cat','prop countries with less 5% covid',data=df6, alpha=0.8)\n",
    "plt.title('Proportion of countries with <5% of past Covid in their population for each HDI Index')\n",
    "plt.ylabel('Prop. Countries with <5% Covid')\n",
    "plt.show()"
   ]
  },
  {
   "cell_type": "markdown",
   "metadata": {},
   "source": [
    "All the countries with the lowest HDI Index place their population already infected by the virus below 5%.\n",
    "\n",
    "Almost all countries (92%) with a medium HDI index place their already infected population below 5%."
   ]
  },
  {
   "cell_type": "code",
   "execution_count": 25,
   "metadata": {},
   "outputs": [
    {
     "name": "stdout",
     "output_type": "stream",
     "text": [
      "The maximum proportion of countries with a low HDI Index is only 1.37%.\n"
     ]
    }
   ],
   "source": [
    "# Maximum proportion of infections for countries with a low HDI Index.\n",
    "covid_hdibajo = df_maxdate[df_maxdate['hdi_cat'] == 'low hdi'].prop_cases.max()\n",
    "print(f'The maximum proportion of countries with a low HDI Index is only {covid_hdibajo}%.')"
   ]
  },
  {
   "cell_type": "code",
   "execution_count": 26,
   "metadata": {},
   "outputs": [
    {
     "data": {
      "text/html": [
       "<div>\n",
       "<style scoped>\n",
       "    .dataframe tbody tr th:only-of-type {\n",
       "        vertical-align: middle;\n",
       "    }\n",
       "\n",
       "    .dataframe tbody tr th {\n",
       "        vertical-align: top;\n",
       "    }\n",
       "\n",
       "    .dataframe thead th {\n",
       "        text-align: right;\n",
       "    }\n",
       "</style>\n",
       "<table border=\"1\" class=\"dataframe\">\n",
       "  <thead>\n",
       "    <tr style=\"text-align: right;\">\n",
       "      <th></th>\n",
       "      <th>count</th>\n",
       "      <th>mean</th>\n",
       "      <th>std</th>\n",
       "      <th>min</th>\n",
       "      <th>25%</th>\n",
       "      <th>50%</th>\n",
       "      <th>75%</th>\n",
       "      <th>max</th>\n",
       "    </tr>\n",
       "  </thead>\n",
       "  <tbody>\n",
       "    <tr>\n",
       "      <th>prop_cases</th>\n",
       "      <td>57.0</td>\n",
       "      <td>9.887368</td>\n",
       "      <td>4.843781</td>\n",
       "      <td>0.19</td>\n",
       "      <td>7.33</td>\n",
       "      <td>10.24</td>\n",
       "      <td>12.88</td>\n",
       "      <td>21.66</td>\n",
       "    </tr>\n",
       "  </tbody>\n",
       "</table>\n",
       "</div>"
      ],
      "text/plain": [
       "            count      mean       std   min   25%    50%    75%    max\n",
       "prop_cases   57.0  9.887368  4.843781  0.19  7.33  10.24  12.88  21.66"
      ]
     },
     "execution_count": 26,
     "metadata": {},
     "output_type": "execute_result"
    }
   ],
   "source": [
    "# Distribution of the percentage of Covid for countries with a very high HDI Index.\n",
    "df_maxdate[df_maxdate['hdi_cat'] == 'very high hdi'][['prop_cases']].describe().T"
   ]
  },
  {
   "cell_type": "markdown",
   "metadata": {},
   "source": [
    "100% of the countries with a low HDI Index have had less than 1.5% of Covid cases in their populations.\n",
    "\n",
    "Meanwhile, only 17.54% of the countries with a very high HDI Index have had less than 5% of Covid cases in their populations (with its interquartile range between 7.33 and 12.88).\n",
    "\n",
    "\n",
    "### **What percentage of the world has had the virus?**"
   ]
  },
  {
   "cell_type": "code",
   "execution_count": 27,
   "metadata": {},
   "outputs": [
    {
     "name": "stdout",
     "output_type": "stream",
     "text": [
      "Only 3.38 of the world population (of the countries analyzed) has been infected with Covid.\n"
     ]
    }
   ],
   "source": [
    "# Proportion of the world that has been infected with the virus.\n",
    "prop_mundial = round(df_maxdate['ConfirmedCases'].sum() / df_maxdate['population'].sum() * 100,2)\n",
    "print(f'Only {prop_mundial} of the world population (of the countries analyzed) has been infected with Covid.')"
   ]
  },
  {
   "cell_type": "markdown",
   "metadata": {},
   "source": [
    "### **Are the countries most affected by the Covid month after month the ones that most of their populations have already infected?**"
   ]
  },
  {
   "cell_type": "code",
   "execution_count": 28,
   "metadata": {},
   "outputs": [
    {
     "name": "stdout",
     "output_type": "stream",
     "text": [
      "The countries most affected by Covid, month by month, ordered from highest to lowest are:, Papua New Guinea, Lesotho, Cambodia, Fiji, Malawi, Zimbabwe, Sierra Leone, Central African Republic, Myanmar, Serbia, Dominica, Israel, Nigeria, Nepal, Timor-Leste\n"
     ]
    }
   ],
   "source": [
    "# Countries most affected by covid month by month.\n",
    "co_highcovid_monthly = df5[df5['perc'] > 25].CountryName.unique()\n",
    "print(f'The countries most affected by Covid, month by month, ordered from highest to lowest are:', *co_highcovid_monthly, sep =\", \")"
   ]
  },
  {
   "cell_type": "code",
   "execution_count": 29,
   "metadata": {},
   "outputs": [
    {
     "data": {
      "text/html": [
       "<div>\n",
       "<style scoped>\n",
       "    .dataframe tbody tr th:only-of-type {\n",
       "        vertical-align: middle;\n",
       "    }\n",
       "\n",
       "    .dataframe tbody tr th {\n",
       "        vertical-align: top;\n",
       "    }\n",
       "\n",
       "    .dataframe thead th {\n",
       "        text-align: right;\n",
       "    }\n",
       "</style>\n",
       "<table border=\"1\" class=\"dataframe\">\n",
       "  <thead>\n",
       "    <tr style=\"text-align: right;\">\n",
       "      <th></th>\n",
       "      <th>CountryName</th>\n",
       "      <th>ConfirmedCases</th>\n",
       "      <th>2019</th>\n",
       "      <th>hdi_cat</th>\n",
       "      <th>population</th>\n",
       "      <th>prop_cases</th>\n",
       "    </tr>\n",
       "  </thead>\n",
       "  <tbody>\n",
       "    <tr>\n",
       "      <th>85804</th>\n",
       "      <td>Serbia</td>\n",
       "      <td>1228328.0</td>\n",
       "      <td>0.806</td>\n",
       "      <td>very high hdi</td>\n",
       "      <td>6908224</td>\n",
       "      <td>17.78</td>\n",
       "    </tr>\n",
       "    <tr>\n",
       "      <th>45668</th>\n",
       "      <td>Israel</td>\n",
       "      <td>1339723.0</td>\n",
       "      <td>0.919</td>\n",
       "      <td>very high hdi</td>\n",
       "      <td>9216900</td>\n",
       "      <td>14.54</td>\n",
       "    </tr>\n",
       "    <tr>\n",
       "      <th>26292</th>\n",
       "      <td>Dominica</td>\n",
       "      <td>5589.0</td>\n",
       "      <td>0.742</td>\n",
       "      <td>high hdi</td>\n",
       "      <td>71991</td>\n",
       "      <td>7.76</td>\n",
       "    </tr>\n",
       "    <tr>\n",
       "      <th>32520</th>\n",
       "      <td>Fiji</td>\n",
       "      <td>52453.0</td>\n",
       "      <td>0.743</td>\n",
       "      <td>high hdi</td>\n",
       "      <td>896444</td>\n",
       "      <td>5.85</td>\n",
       "    </tr>\n",
       "    <tr>\n",
       "      <th>71272</th>\n",
       "      <td>Nepal</td>\n",
       "      <td>818578.0</td>\n",
       "      <td>0.602</td>\n",
       "      <td>medium hdi</td>\n",
       "      <td>29136808</td>\n",
       "      <td>2.81</td>\n",
       "    </tr>\n",
       "    <tr>\n",
       "      <th>93416</th>\n",
       "      <td>Timor-Leste</td>\n",
       "      <td>19816.0</td>\n",
       "      <td>0.606</td>\n",
       "      <td>medium hdi</td>\n",
       "      <td>1318442</td>\n",
       "      <td>1.50</td>\n",
       "    </tr>\n",
       "    <tr>\n",
       "      <th>56048</th>\n",
       "      <td>Lesotho</td>\n",
       "      <td>21726.0</td>\n",
       "      <td>0.527</td>\n",
       "      <td>low hdi</td>\n",
       "      <td>2142252</td>\n",
       "      <td>1.01</td>\n",
       "    </tr>\n",
       "    <tr>\n",
       "      <th>62276</th>\n",
       "      <td>Myanmar</td>\n",
       "      <td>516770.0</td>\n",
       "      <td>0.583</td>\n",
       "      <td>medium hdi</td>\n",
       "      <td>54409794</td>\n",
       "      <td>0.95</td>\n",
       "    </tr>\n",
       "    <tr>\n",
       "      <th>102412</th>\n",
       "      <td>Zimbabwe</td>\n",
       "      <td>133593.0</td>\n",
       "      <td>0.571</td>\n",
       "      <td>medium hdi</td>\n",
       "      <td>14862927</td>\n",
       "      <td>0.90</td>\n",
       "    </tr>\n",
       "    <tr>\n",
       "      <th>50512</th>\n",
       "      <td>Cambodia</td>\n",
       "      <td>119786.0</td>\n",
       "      <td>0.594</td>\n",
       "      <td>medium hdi</td>\n",
       "      <td>16718971</td>\n",
       "      <td>0.72</td>\n",
       "    </tr>\n",
       "    <tr>\n",
       "      <th>76116</th>\n",
       "      <td>Papua New Guinea</td>\n",
       "      <td>34022.0</td>\n",
       "      <td>0.555</td>\n",
       "      <td>medium hdi</td>\n",
       "      <td>8947027</td>\n",
       "      <td>0.38</td>\n",
       "    </tr>\n",
       "    <tr>\n",
       "      <th>65736</th>\n",
       "      <td>Malawi</td>\n",
       "      <td>61861.0</td>\n",
       "      <td>0.483</td>\n",
       "      <td>low hdi</td>\n",
       "      <td>19129955</td>\n",
       "      <td>0.32</td>\n",
       "    </tr>\n",
       "    <tr>\n",
       "      <th>16604</th>\n",
       "      <td>Central African Republic</td>\n",
       "      <td>11666.0</td>\n",
       "      <td>0.397</td>\n",
       "      <td>low hdi</td>\n",
       "      <td>4829764</td>\n",
       "      <td>0.24</td>\n",
       "    </tr>\n",
       "    <tr>\n",
       "      <th>68504</th>\n",
       "      <td>Nigeria</td>\n",
       "      <td>213487.0</td>\n",
       "      <td>0.539</td>\n",
       "      <td>low hdi</td>\n",
       "      <td>206139587</td>\n",
       "      <td>0.10</td>\n",
       "    </tr>\n",
       "    <tr>\n",
       "      <th>84420</th>\n",
       "      <td>Sierra Leone</td>\n",
       "      <td>6400.0</td>\n",
       "      <td>0.452</td>\n",
       "      <td>low hdi</td>\n",
       "      <td>7976985</td>\n",
       "      <td>0.08</td>\n",
       "    </tr>\n",
       "  </tbody>\n",
       "</table>\n",
       "</div>"
      ],
      "text/plain": [
       "                     CountryName  ConfirmedCases   2019        hdi_cat  \\\n",
       "85804                     Serbia       1228328.0  0.806  very high hdi   \n",
       "45668                     Israel       1339723.0  0.919  very high hdi   \n",
       "26292                   Dominica          5589.0  0.742       high hdi   \n",
       "32520                       Fiji         52453.0  0.743       high hdi   \n",
       "71272                      Nepal        818578.0  0.602     medium hdi   \n",
       "93416                Timor-Leste         19816.0  0.606     medium hdi   \n",
       "56048                    Lesotho         21726.0  0.527        low hdi   \n",
       "62276                    Myanmar        516770.0  0.583     medium hdi   \n",
       "102412                  Zimbabwe        133593.0  0.571     medium hdi   \n",
       "50512                   Cambodia        119786.0  0.594     medium hdi   \n",
       "76116           Papua New Guinea         34022.0  0.555     medium hdi   \n",
       "65736                     Malawi         61861.0  0.483        low hdi   \n",
       "16604   Central African Republic         11666.0  0.397        low hdi   \n",
       "68504                    Nigeria        213487.0  0.539        low hdi   \n",
       "84420               Sierra Leone          6400.0  0.452        low hdi   \n",
       "\n",
       "        population  prop_cases  \n",
       "85804      6908224       17.78  \n",
       "45668      9216900       14.54  \n",
       "26292        71991        7.76  \n",
       "32520       896444        5.85  \n",
       "71272     29136808        2.81  \n",
       "93416      1318442        1.50  \n",
       "56048      2142252        1.01  \n",
       "62276     54409794        0.95  \n",
       "102412    14862927        0.90  \n",
       "50512     16718971        0.72  \n",
       "76116      8947027        0.38  \n",
       "65736     19129955        0.32  \n",
       "16604      4829764        0.24  \n",
       "68504    206139587        0.10  \n",
       "84420      7976985        0.08  "
      ]
     },
     "execution_count": 29,
     "metadata": {},
     "output_type": "execute_result"
    }
   ],
   "source": [
    "# Proportion of the infected population of the countries most affected by the Covid month by month.\n",
    "df_maxdate[df_maxdate['CountryName'].isin(co_highcovid_monthly)]\\\n",
    "         .drop(['Date','C1_School closing','D_ConfirmedCases','month','year'],axis = 1)\\\n",
    "         .sort_values(by = 'prop_cases', ascending = False)"
   ]
  },
  {
   "cell_type": "markdown",
   "metadata": {},
   "source": [
    "Serbia and Israel are among the countries most affected by the Covid month by month and among the countries with a higher proportion of the infected population.\n",
    "\n",
    "Lesotho, Myanmar, Zimbabwe, Cambodia, Papua, Malawi, Central African Republic, Nigeria and Sierra Leone have almost less than 1% of the population already infected.\n",
    "However, they are among the countries with the highest increase in Covid cases per month.\n",
    "\n",
    "### **What happens so that many of the countries (11 of the 15) most affected by Covid every month are among the least infected?**"
   ]
  },
  {
   "cell_type": "code",
   "execution_count": 30,
   "metadata": {},
   "outputs": [
    {
     "data": {
      "text/html": [
       "<div>\n",
       "<style scoped>\n",
       "    .dataframe tbody tr th:only-of-type {\n",
       "        vertical-align: middle;\n",
       "    }\n",
       "\n",
       "    .dataframe tbody tr th {\n",
       "        vertical-align: top;\n",
       "    }\n",
       "\n",
       "    .dataframe thead th {\n",
       "        text-align: right;\n",
       "    }\n",
       "</style>\n",
       "<table border=\"1\" class=\"dataframe\">\n",
       "  <thead>\n",
       "    <tr style=\"text-align: right;\">\n",
       "      <th></th>\n",
       "      <th>count</th>\n",
       "      <th>mean</th>\n",
       "      <th>std</th>\n",
       "      <th>min</th>\n",
       "      <th>25%</th>\n",
       "      <th>50%</th>\n",
       "      <th>75%</th>\n",
       "      <th>max</th>\n",
       "    </tr>\n",
       "  </thead>\n",
       "  <tbody>\n",
       "    <tr>\n",
       "      <th>sum</th>\n",
       "      <td>3404.0</td>\n",
       "      <td>68600.860165</td>\n",
       "      <td>340361.946057</td>\n",
       "      <td>0.0</td>\n",
       "      <td>201.0</td>\n",
       "      <td>3253.0</td>\n",
       "      <td>26655.0</td>\n",
       "      <td>9010075.0</td>\n",
       "    </tr>\n",
       "  </tbody>\n",
       "</table>\n",
       "</div>"
      ],
      "text/plain": [
       "      count          mean            std  min    25%     50%      75%  \\\n",
       "sum  3404.0  68600.860165  340361.946057  0.0  201.0  3253.0  26655.0   \n",
       "\n",
       "           max  \n",
       "sum  9010075.0  "
      ]
     },
     "execution_count": 30,
     "metadata": {},
     "output_type": "execute_result"
    }
   ],
   "source": [
    "# Distribution of the number of confirmed cases per month.\n",
    "df.groupby(['month','year','CountryName'])['D_ConfirmedCases'].agg(['sum']).reset_index()[['sum']].describe().T"
   ]
  },
  {
   "cell_type": "code",
   "execution_count": 31,
   "metadata": {},
   "outputs": [],
   "source": [
    "# Countries most affected by Covid month by month with a very low proportion of infections.\n",
    "co_paradox_df = df_maxdate[df_maxdate['CountryName'].isin(co_highcovid_monthly)]\\\n",
    "         .drop(['Date','C1_School closing','D_ConfirmedCases','month','year'],axis = 1)\\\n",
    "         .sort_values(by = 'prop_cases', ascending = False)\n",
    "co_paradox = co_paradox_df[co_paradox_df['prop_cases'] < 2].CountryName.unique()"
   ]
  },
  {
   "cell_type": "code",
   "execution_count": 32,
   "metadata": {},
   "outputs": [
    {
     "data": {
      "text/html": [
       "<div>\n",
       "<style scoped>\n",
       "    .dataframe tbody tr th:only-of-type {\n",
       "        vertical-align: middle;\n",
       "    }\n",
       "\n",
       "    .dataframe tbody tr th {\n",
       "        vertical-align: top;\n",
       "    }\n",
       "\n",
       "    .dataframe thead th {\n",
       "        text-align: right;\n",
       "    }\n",
       "</style>\n",
       "<table border=\"1\" class=\"dataframe\">\n",
       "  <thead>\n",
       "    <tr style=\"text-align: right;\">\n",
       "      <th></th>\n",
       "      <th>count</th>\n",
       "      <th>mean</th>\n",
       "      <th>std</th>\n",
       "      <th>min</th>\n",
       "      <th>25%</th>\n",
       "      <th>50%</th>\n",
       "      <th>75%</th>\n",
       "      <th>max</th>\n",
       "    </tr>\n",
       "  </thead>\n",
       "  <tbody>\n",
       "    <tr>\n",
       "      <th>count</th>\n",
       "      <td>10.0</td>\n",
       "      <td>10.6</td>\n",
       "      <td>4.788876</td>\n",
       "      <td>3.0</td>\n",
       "      <td>7.0</td>\n",
       "      <td>12.0</td>\n",
       "      <td>14.5</td>\n",
       "      <td>17.0</td>\n",
       "    </tr>\n",
       "  </tbody>\n",
       "</table>\n",
       "</div>"
      ],
      "text/plain": [
       "       count  mean       std  min  25%   50%   75%   max\n",
       "count   10.0  10.6  4.788876  3.0  7.0  12.0  14.5  17.0"
      ]
     },
     "execution_count": 32,
     "metadata": {},
     "output_type": "execute_result"
    }
   ],
   "source": [
    "# If confirmed cases per month are less than the first quantile (201) of the distribution of cases per month, it is assumed\n",
    "# that confirmed cases for the month are extremely low.\n",
    "# Condition: Confirmed cases per month <201 are excessively low Covid cases.\n",
    "condition2 = high_covid_df['D_ConfirmedCases'] < 201\n",
    "c2 = np.where(condition2, 'Covid cases excessively low', 'Covid cases not excessively low')\n",
    "\n",
    "# Monthly count of excessively low cases by country.\n",
    "rec = high_covid_df.groupby(['CountryName','hdi_cat',c2])['D_ConfirmedCases'].agg(['count']).reset_index()\n",
    "rec = rec[rec['level_2'] == 'Covid cases excessively low'].drop('level_2',axis=1)\n",
    "# Distribution of the monthly count of excessively low cases in the countries most affected by Covid month by month\n",
    "# but with a very low contagion rate.\n",
    "rec[rec['CountryName'].isin(co_paradox)][['count']].describe().T"
   ]
  },
  {
   "cell_type": "code",
   "execution_count": 33,
   "metadata": {},
   "outputs": [
    {
     "data": {
      "text/html": [
       "<div>\n",
       "<style scoped>\n",
       "    .dataframe tbody tr th:only-of-type {\n",
       "        vertical-align: middle;\n",
       "    }\n",
       "\n",
       "    .dataframe tbody tr th {\n",
       "        vertical-align: top;\n",
       "    }\n",
       "\n",
       "    .dataframe thead th {\n",
       "        text-align: right;\n",
       "    }\n",
       "</style>\n",
       "<table border=\"1\" class=\"dataframe\">\n",
       "  <thead>\n",
       "    <tr style=\"text-align: right;\">\n",
       "      <th></th>\n",
       "      <th>count</th>\n",
       "      <th>mean</th>\n",
       "      <th>std</th>\n",
       "      <th>min</th>\n",
       "      <th>25%</th>\n",
       "      <th>50%</th>\n",
       "      <th>75%</th>\n",
       "      <th>max</th>\n",
       "    </tr>\n",
       "  </thead>\n",
       "  <tbody>\n",
       "    <tr>\n",
       "      <th>count</th>\n",
       "      <td>138.0</td>\n",
       "      <td>5.384058</td>\n",
       "      <td>5.410617</td>\n",
       "      <td>1.0</td>\n",
       "      <td>2.0</td>\n",
       "      <td>3.0</td>\n",
       "      <td>6.0</td>\n",
       "      <td>23.0</td>\n",
       "    </tr>\n",
       "  </tbody>\n",
       "</table>\n",
       "</div>"
      ],
      "text/plain": [
       "       count      mean       std  min  25%  50%  75%   max\n",
       "count  138.0  5.384058  5.410617  1.0  2.0  3.0  6.0  23.0"
      ]
     },
     "execution_count": 33,
     "metadata": {},
     "output_type": "execute_result"
    }
   ],
   "source": [
    "# Distribution of the monthly count of excessively low cases in the rest of the countries.\n",
    "rec[~rec['CountryName'].isin(co_paradox)][['count']].describe().T"
   ]
  },
  {
   "cell_type": "markdown",
   "metadata": {},
   "source": [
    "Countries A: countries with large monthly increases in Covid and a very low proportion of the infected population.\n",
    "\n",
    "Countries B: the rest of the countries.\n",
    "\n",
    "There is a large difference in the month count with confirmed cases below 201 between countries A and countries B.\n",
    "\n",
    "Countries A have twice the average (of the count of months with very low cases of Covid) than countries B. That is, countries A have many more months with increases of Covid of very small figures than the rest of the countries."
   ]
  },
  {
   "cell_type": "markdown",
   "metadata": {},
   "source": [
    "## <a name=\"M3\">3. In the months with the highest Covid peaks, were the same policies taken in the schools as in the months with the fewest Covid peaks?</a>"
   ]
  },
  {
   "cell_type": "code",
   "execution_count": 34,
   "metadata": {},
   "outputs": [],
   "source": [
    "# New df: with the number of Covid cases per month and the average of the policy adopted (school closings) per month\n",
    "# in each country.\n",
    "pol = df.groupby(['CountryName','hdi_cat','year','month'])\\\n",
    "                .agg({'D_ConfirmedCases':'sum','C1_School closing':'mean'}).reset_index()\n",
    "\n",
    "# New column with the percentage of the increase in new covid cases each month.\n",
    "rows_list3 = []\n",
    "for country in df.CountryName.unique():\n",
    "    co = pol[pol['CountryName'] == country]\n",
    "    # new column: percentage of the increase in new covid cases each month.\n",
    "    co['perc_D_ConfirmedCases'] = round((co['D_ConfirmedCases'] - co['D_ConfirmedCases'].shift())\\\n",
    "                                        /co['D_ConfirmedCases'],3)\n",
    "    [rows_list3.append(row) for row in co.values]\n",
    "    \n",
    "# New df: with the number of covid cases per month, the percentage of increase in new covid cases and\n",
    "# the average of the policy adopted (closing schools) per month in each country.\n",
    "df7 = pd.DataFrame(rows_list3, columns = ['CountryName', 'hdi_cat', 'year', 'month','D_ConfirmedCases', \n",
    "                                          'C1_School closing','perc_D_ConfirmedCases'])"
   ]
  },
  {
   "cell_type": "code",
   "execution_count": 35,
   "metadata": {},
   "outputs": [
    {
     "data": {
      "text/html": [
       "<div>\n",
       "<style scoped>\n",
       "    .dataframe tbody tr th:only-of-type {\n",
       "        vertical-align: middle;\n",
       "    }\n",
       "\n",
       "    .dataframe tbody tr th {\n",
       "        vertical-align: top;\n",
       "    }\n",
       "\n",
       "    .dataframe thead th {\n",
       "        text-align: right;\n",
       "    }\n",
       "</style>\n",
       "<table border=\"1\" class=\"dataframe\">\n",
       "  <thead>\n",
       "    <tr style=\"text-align: right;\">\n",
       "      <th></th>\n",
       "      <th>hdi_cat</th>\n",
       "      <th>big_increase</th>\n",
       "      <th>low_increase</th>\n",
       "    </tr>\n",
       "  </thead>\n",
       "  <tbody>\n",
       "    <tr>\n",
       "      <th>Indonesia</th>\n",
       "      <td>high hdi</td>\n",
       "      <td>3.00</td>\n",
       "      <td>2.27</td>\n",
       "    </tr>\n",
       "    <tr>\n",
       "      <th>China</th>\n",
       "      <td>high hdi</td>\n",
       "      <td>3.00</td>\n",
       "      <td>2.42</td>\n",
       "    </tr>\n",
       "    <tr>\n",
       "      <th>Mongolia</th>\n",
       "      <td>high hdi</td>\n",
       "      <td>2.85</td>\n",
       "      <td>2.38</td>\n",
       "    </tr>\n",
       "    <tr>\n",
       "      <th>India</th>\n",
       "      <td>medium hdi</td>\n",
       "      <td>2.81</td>\n",
       "      <td>2.18</td>\n",
       "    </tr>\n",
       "    <tr>\n",
       "      <th>United States</th>\n",
       "      <td>very high hdi</td>\n",
       "      <td>2.81</td>\n",
       "      <td>2.22</td>\n",
       "    </tr>\n",
       "    <tr>\n",
       "      <th>...</th>\n",
       "      <td>...</td>\n",
       "      <td>...</td>\n",
       "      <td>...</td>\n",
       "    </tr>\n",
       "    <tr>\n",
       "      <th>Solomon Islands</th>\n",
       "      <td>medium hdi</td>\n",
       "      <td>0.00</td>\n",
       "      <td>0.31</td>\n",
       "    </tr>\n",
       "    <tr>\n",
       "      <th>Vanuatu</th>\n",
       "      <td>medium hdi</td>\n",
       "      <td>0.00</td>\n",
       "      <td>0.38</td>\n",
       "    </tr>\n",
       "    <tr>\n",
       "      <th>Tonga</th>\n",
       "      <td>high hdi</td>\n",
       "      <td>0.00</td>\n",
       "      <td>0.79</td>\n",
       "    </tr>\n",
       "    <tr>\n",
       "      <th>Turkmenistan</th>\n",
       "      <td>high hdi</td>\n",
       "      <td>NaN</td>\n",
       "      <td>0.88</td>\n",
       "    </tr>\n",
       "    <tr>\n",
       "      <th>Comoros</th>\n",
       "      <td>medium hdi</td>\n",
       "      <td>NaN</td>\n",
       "      <td>NaN</td>\n",
       "    </tr>\n",
       "  </tbody>\n",
       "</table>\n",
       "<p>148 rows × 3 columns</p>\n",
       "</div>"
      ],
      "text/plain": [
       "                       hdi_cat  big_increase  low_increase\n",
       "Indonesia             high hdi          3.00          2.27\n",
       "China                 high hdi          3.00          2.42\n",
       "Mongolia              high hdi          2.85          2.38\n",
       "India               medium hdi          2.81          2.18\n",
       "United States    very high hdi          2.81          2.22\n",
       "...                        ...           ...           ...\n",
       "Solomon Islands     medium hdi          0.00          0.31\n",
       "Vanuatu             medium hdi          0.00          0.38\n",
       "Tonga                 high hdi          0.00          0.79\n",
       "Turkmenistan          high hdi           NaN          0.88\n",
       "Comoros             medium hdi           NaN           NaN\n",
       "\n",
       "[148 rows x 3 columns]"
      ]
     },
     "execution_count": 35,
     "metadata": {},
     "output_type": "execute_result"
    }
   ],
   "source": [
    "# Objective: to know for each country which policy has been applied in two different scenarios: when there is\n",
    "# high increases in Covid compared to the previous month and when those increases are not high.\n",
    "d_c1 = {}\n",
    "for country in df7.CountryName.unique():\n",
    "    co = df7[df7['CountryName'] == country]\n",
    "    # categorization of percentages into percentages with a high increase and percentages with a normal or low increase.\n",
    "    co['perc_D_ConfirmedCases'] = co['perc_D_ConfirmedCases']\\\n",
    "                                    .apply(lambda x: 'big increase' if x > 0.75 else 'low increase')\n",
    "    \n",
    "    # For each categorization of high case increase and non-high case increase\n",
    "    # The average of the adopted policy is calculated (school closings).\n",
    "    # If the two categories of high and non-high case increase exist for the country, they are added in the variables big_inc and low_inc.\n",
    "    if len(co['perc_D_ConfirmedCases'].unique()) == 2:\n",
    "        big_inc = round(co.groupby(['perc_D_ConfirmedCases'])['C1_School closing'].agg('mean').values[0],2)\n",
    "        low_inc = round(co.groupby(['perc_D_ConfirmedCases'])['C1_School closing'].agg('mean').values[1],2)\n",
    "        d_c1[country] = co['hdi_cat'].unique()[0],big_inc,low_inc\n",
    "    # If there is only one of the two categories of high or not high case increase for the country, only one of the variables big_inc or low_inc is added.\n",
    "    elif co['perc_D_ConfirmedCases'].unique().tolist() == ['low increase']:\n",
    "        low_inc = round(co.groupby(['perc_D_ConfirmedCases'])['C1_School closing'].agg('mean').values[0],2)\n",
    "        d_c1[country] = co['hdi_cat'].unique()[0],None,low_inc\n",
    "    else:\n",
    "        big_inc = round(co.groupby(['perc_D_ConfirmedCases'])['C1_School closing'].agg('mean').values[0],2)\n",
    "        d_c1[country] = co['hdi_cat'].unique()[0],big_inc,None\n",
    "        \n",
    "# Dataframe with the policies (of school closings) in cases with high increases of Covid\n",
    "# and in cases with low Covid increments.\n",
    "df_c1 = pd.DataFrame(d_c1).T\n",
    "df_c1.columns = ['hdi_cat','big_increase','low_increase']\n",
    "df_c1[['big_increase','low_increase']] = df_c1[['big_increase','low_increase']].apply(pd.to_numeric)\n",
    "df_c1.sort_values(by=['big_increase','low_increase'],ascending=[False,True])"
   ]
  },
  {
   "cell_type": "code",
   "execution_count": 36,
   "metadata": {},
   "outputs": [
    {
     "data": {
      "text/html": [
       "<div>\n",
       "<style scoped>\n",
       "    .dataframe tbody tr th:only-of-type {\n",
       "        vertical-align: middle;\n",
       "    }\n",
       "\n",
       "    .dataframe tbody tr th {\n",
       "        vertical-align: top;\n",
       "    }\n",
       "\n",
       "    .dataframe thead th {\n",
       "        text-align: right;\n",
       "    }\n",
       "</style>\n",
       "<table border=\"1\" class=\"dataframe\">\n",
       "  <thead>\n",
       "    <tr style=\"text-align: right;\">\n",
       "      <th></th>\n",
       "      <th>hdi_cat</th>\n",
       "      <th>big_increase</th>\n",
       "      <th>low_increase</th>\n",
       "    </tr>\n",
       "  </thead>\n",
       "  <tbody>\n",
       "    <tr>\n",
       "      <th>Comoros</th>\n",
       "      <td>medium hdi</td>\n",
       "      <td>NaN</td>\n",
       "      <td>NaN</td>\n",
       "    </tr>\n",
       "    <tr>\n",
       "      <th>Turkmenistan</th>\n",
       "      <td>high hdi</td>\n",
       "      <td>NaN</td>\n",
       "      <td>0.88</td>\n",
       "    </tr>\n",
       "  </tbody>\n",
       "</table>\n",
       "</div>"
      ],
      "text/plain": [
       "                 hdi_cat  big_increase  low_increase\n",
       "Comoros       medium hdi           NaN           NaN\n",
       "Turkmenistan    high hdi           NaN          0.88"
      ]
     },
     "execution_count": 36,
     "metadata": {},
     "output_type": "execute_result"
    }
   ],
   "source": [
    "# Know if there are countries that do not have high increases in Covid.\n",
    "df_c1[df_c1.big_increase.isnull()]"
   ]
  },
  {
   "cell_type": "markdown",
   "metadata": {},
   "source": [
    "Turkmenistan has not had large monthly increases in its Covid cases and Comoros is the only country without data."
   ]
  },
  {
   "cell_type": "code",
   "execution_count": 37,
   "metadata": {},
   "outputs": [
    {
     "data": {
      "text/html": [
       "<div>\n",
       "<style scoped>\n",
       "    .dataframe tbody tr th:only-of-type {\n",
       "        vertical-align: middle;\n",
       "    }\n",
       "\n",
       "    .dataframe tbody tr th {\n",
       "        vertical-align: top;\n",
       "    }\n",
       "\n",
       "    .dataframe thead th {\n",
       "        text-align: right;\n",
       "    }\n",
       "</style>\n",
       "<table border=\"1\" class=\"dataframe\">\n",
       "  <thead>\n",
       "    <tr style=\"text-align: right;\">\n",
       "      <th></th>\n",
       "      <th>big_increase</th>\n",
       "      <th>low_increase</th>\n",
       "    </tr>\n",
       "    <tr>\n",
       "      <th>hdi_cat</th>\n",
       "      <th></th>\n",
       "      <th></th>\n",
       "    </tr>\n",
       "  </thead>\n",
       "  <tbody>\n",
       "    <tr>\n",
       "      <th>low hdi</th>\n",
       "      <td>1.584</td>\n",
       "      <td>1.112</td>\n",
       "    </tr>\n",
       "    <tr>\n",
       "      <th>medium hdi</th>\n",
       "      <td>1.823</td>\n",
       "      <td>1.444</td>\n",
       "    </tr>\n",
       "    <tr>\n",
       "      <th>very high hdi</th>\n",
       "      <td>1.499</td>\n",
       "      <td>1.614</td>\n",
       "    </tr>\n",
       "    <tr>\n",
       "      <th>high hdi</th>\n",
       "      <td>2.116</td>\n",
       "      <td>1.860</td>\n",
       "    </tr>\n",
       "  </tbody>\n",
       "</table>\n",
       "</div>"
      ],
      "text/plain": [
       "               big_increase  low_increase\n",
       "hdi_cat                                  \n",
       "low hdi               1.584         1.112\n",
       "medium hdi            1.823         1.444\n",
       "very high hdi         1.499         1.614\n",
       "high hdi              2.116         1.860"
      ]
     },
     "execution_count": 37,
     "metadata": {},
     "output_type": "execute_result"
    }
   ],
   "source": [
    "# Grouping by HDI categories, what value do policies (for school closings) have in both scenarios:\n",
    "# scenario with high increase in Covid and scenario with not high increase in Covid.\n",
    "round(df_c1.groupby(['hdi_cat'])['big_increase','low_increase'].mean().sort_values(by='low_increase'),3)"
   ]
  },
  {
   "cell_type": "markdown",
   "metadata": {},
   "source": [
    "In each HDI category, the countries have a more lax application of school closure policies in scenarios with not high increases in Covid.\n",
    "\n",
    "Countries with low and very high HDI categories have similar closure policies in scenarios with high increases in covid.\n",
    "\n",
    "### **Have the countries with a proportionally more infected population taken more or less measures to close schools?**"
   ]
  },
  {
   "cell_type": "code",
   "execution_count": 39,
   "metadata": {},
   "outputs": [
    {
     "data": {
      "image/png": "[encoded data removed]",
      "text/plain": [
       "<Figure size 1080x432 with 1 Axes>"
      ]
     },
     "metadata": {
      "needs_background": "light"
     },
     "output_type": "display_data"
    }
   ],
   "source": [
    "# Countries with the highest proportion of infections.\n",
    "cont = df_maxdate[df_maxdate['prop_cases'] > 15]\n",
    "# Average of the policies adopted for situations with very high and not high Covid cases by country\n",
    "# For countries with the highest proportion of infections.\n",
    "df_c1_cont = round(df_c1.loc[cont['CountryName'].unique()].mean(),2)\n",
    "\n",
    "# Countries with the lowest proportion of infections.\n",
    "notcont = df_maxdate[df_maxdate['prop_cases'] <1]\n",
    "# Drop Comoros country (index: 19243) for not being in df_c1.\n",
    "notcont.drop(22140,inplace=True)\n",
    "# Average of the policies adopted for situations with very high and not high Covid cases by country\n",
    "# For countries with the lowest proportion of infections.\n",
    "df_c1_notcont = round(df_c1.loc[notcont['CountryName'].unique()].mean(),2)\n",
    "\n",
    "# Average of the policies adopted for situations with very high Covid cases\n",
    "# And not high per country on average worldwide.\n",
    "df_c1_g = pd.Series([round(df_c1.big_increase.mean(),2), round(df_c1.low_increase.mean(),2)],index=['big_increase','low_increase'])\n",
    "\n",
    "# New df: with the policy averages for situations with a large increase in Covid and not a large increase\n",
    "# with countries with the highest proportion of infections, countries with the lowest proportion of infections and total number of countries.\n",
    "df_c1_ = pd.concat([df_c1_cont, df_c1_notcont, df_c1_g], axis=1)\n",
    "df_c1_.columns = ['countries with more infected populations', 'countries with less infected populations', 'globally']\n",
    "fig, ax = plt.subplots(figsize=(15,6))\n",
    "df_c1_.plot(kind='bar',alpha=0.80, ax=ax)\n",
    "# Shrink current axis by 20%.\n",
    "box = ax.get_position()\n",
    "ax.set_position([box.x0, box.y0, box.width * 0.8, box.height])\n",
    "# Put a legend to the right of the current axis.\n",
    "plt.legend(loc='center left', bbox_to_anchor=(1, 0.5))\n",
    "plt.title('School closure measures according to contagions')\n",
    "plt.xlabel('Situations with very notable and unremarkable covid cases')\n",
    "plt.ylabel('School closure measure (0-no closure to 3-total closure)')\n",
    "plt.show()"
   ]
  },
  {
   "cell_type": "markdown",
   "metadata": {},
   "source": [
    "Globally, a few more measures are taken when the scenarios are more contagious, although the difference is not notable.\n",
    "\n",
    "Restrictive policies, consisting of significant alterations and the closure of some levels, are those that remain more constant over time.\n",
    "\n",
    "Countries with a less infected population have taken a few more measures than countries with the most infections in the months with high infections.\n",
    "However, the opposite occurs in months with fewer infections: the most infected populations take a few more actions than the least infected populations."
   ]
  },
  {
   "cell_type": "markdown",
   "metadata": {},
   "source": [
    "# Conclusions\n",
    "* Of the countries most affected by the Covid month by month, more than double have a low and medium HDI Index.\n",
    "* March 2020 was by far the month with the highest spikes in infections in more countries.\n",
    "* 100% of the countries with a low HDI Index have had less than 1.5% of Covid cases in their populations.\n",
    "* In 75% of countries, only 9.3% or less of their populations have had the virus.\n",
    "* Only 3.38% of the world population (of the countries analyzed) has been infected with Covid.\n",
    "* Countries with low and very high HDI categories have similar closure policies in scenarios with high increases in Covid.\n",
    "* Restrictive policies, consisting of significant alterations and closure of some levels (level 1), are those that remain more constant over time."
   ]
  }
 ],
 "metadata": {
  "hide_input": false,
  "kernelspec": {
   "display_name": "Python 3",
   "language": "python",
   "name": "python3"
  },
  "language_info": {
   "codemirror_mode": {
    "name": "ipython",
    "version": 3
   },
   "file_extension": ".py",
   "mimetype": "text/x-python",
   "name": "python",
   "nbconvert_exporter": "python",
   "pygments_lexer": "ipython3",
   "version": "3.7.9"
  }
 },
 "nbformat": 4,
 "nbformat_minor": 5
}
